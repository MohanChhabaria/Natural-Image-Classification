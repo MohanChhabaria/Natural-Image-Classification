{
  "nbformat": 4,
  "nbformat_minor": 0,
  "metadata": {
    "colab": {
      "name": "CIFAR10_ANN.ipynb",
      "provenance": [],
      "collapsed_sections": []
    },
    "kernelspec": {
      "name": "python3",
      "display_name": "Python 3"
    },
    "language_info": {
      "name": "python"
    }
  },
  "cells": [
    {
      "cell_type": "code",
      "metadata": {
        "id": "O-xu-DG_xSpa"
      },
      "source": [
        "import numpy as np\n",
        "import pandas as pd\n",
        "\n",
        "from keras.datasets import cifar10\n",
        "from sklearn.neural_network import MLPClassifier\n",
        "from tensorflow.keras import datasets, layers, models\n",
        "from tensorflow.keras import Sequential\n",
        "from tensorflow.keras.layers import Flatten, Dense, Softmax\n",
        "from tensorflow.keras import optimizers\n",
        "from keras.layers import Dropout\n",
        "import cv2"
      ],
      "execution_count": null,
      "outputs": []
    },
    {
      "cell_type": "markdown",
      "metadata": {
        "id": "Lvkgva0XfyaY"
      },
      "source": [
        ""
      ]
    },
    {
      "cell_type": "markdown",
      "metadata": {
        "id": "p_IShGPIfyRS"
      },
      "source": [
        ""
      ]
    },
    {
      "cell_type": "code",
      "metadata": {
        "id": "vIre7SstFq4N"
      },
      "source": [
        "(X_train, y_train), (X_test, y_test) = cifar10.load_data()"
      ],
      "execution_count": null,
      "outputs": []
    },
    {
      "cell_type": "code",
      "metadata": {
        "id": "-cihE4q8xnbC",
        "colab": {
          "base_uri": "https://localhost:8080/"
        },
        "outputId": "72000915-c439-41e8-ed3e-a58163378674"
      },
      "source": [
        "X_train.shape"
      ],
      "execution_count": null,
      "outputs": [
        {
          "output_type": "execute_result",
          "data": {
            "text/plain": [
              "(50000, 32, 32, 3)"
            ]
          },
          "metadata": {
            "tags": []
          },
          "execution_count": 3
        }
      ]
    },
    {
      "cell_type": "code",
      "metadata": {
        "id": "aHlGN892xtHP",
        "colab": {
          "base_uri": "https://localhost:8080/"
        },
        "outputId": "4087bad3-8d39-48fa-bb44-bd64c8178a2a"
      },
      "source": [
        "y_train.shape"
      ],
      "execution_count": null,
      "outputs": [
        {
          "output_type": "execute_result",
          "data": {
            "text/plain": [
              "(50000, 1)"
            ]
          },
          "metadata": {
            "tags": []
          },
          "execution_count": 4
        }
      ]
    },
    {
      "cell_type": "code",
      "metadata": {
        "colab": {
          "base_uri": "https://localhost:8080/"
        },
        "id": "yAQzdET8bNul",
        "outputId": "8f043ab1-3ad6-4bd4-fa05-9f260f0b8ed4"
      },
      "source": [
        "X_test.shape"
      ],
      "execution_count": null,
      "outputs": [
        {
          "output_type": "execute_result",
          "data": {
            "text/plain": [
              "(10000, 32, 32, 3)"
            ]
          },
          "metadata": {
            "tags": []
          },
          "execution_count": 5
        }
      ]
    },
    {
      "cell_type": "markdown",
      "metadata": {
        "id": "grs6sB6Rcd4Z"
      },
      "source": [
        "Reshaping the data so that t can be fit into MLP classifier"
      ]
    },
    {
      "cell_type": "code",
      "metadata": {
        "id": "dID49pXbxxXQ"
      },
      "source": [
        "\n",
        "X_train = X_train.reshape(-1, 3072)"
      ],
      "execution_count": null,
      "outputs": []
    },
    {
      "cell_type": "code",
      "metadata": {
        "id": "aPkh533ZhuZf"
      },
      "source": [
        "X_test=X_test.reshape(-1,3072)"
      ],
      "execution_count": null,
      "outputs": []
    },
    {
      "cell_type": "markdown",
      "metadata": {
        "id": "CCytHrNGckDr"
      },
      "source": [
        "Preprocessing the data"
      ]
    },
    {
      "cell_type": "code",
      "metadata": {
        "id": "m49B_Z-chzWA"
      },
      "source": [
        " X_train = X_train.astype(\"float32\") / 255"
      ],
      "execution_count": null,
      "outputs": []
    },
    {
      "cell_type": "code",
      "metadata": {
        "colab": {
          "base_uri": "https://localhost:8080/"
        },
        "id": "zGPIWBIRZy2o",
        "outputId": "f024378e-bb64-40f7-e6d8-146002f73084"
      },
      "source": [
        "X_train"
      ],
      "execution_count": null,
      "outputs": [
        {
          "output_type": "execute_result",
          "data": {
            "text/plain": [
              "array([[0.23137255, 0.24313726, 0.24705882, ..., 0.48235294, 0.36078432,\n",
              "        0.28235295],\n",
              "       [0.6039216 , 0.69411767, 0.73333335, ..., 0.56078434, 0.52156866,\n",
              "        0.5647059 ],\n",
              "       [1.        , 1.        , 1.        , ..., 0.3137255 , 0.3372549 ,\n",
              "        0.32941177],\n",
              "       ...,\n",
              "       [0.13725491, 0.69803923, 0.92156863, ..., 0.04705882, 0.12156863,\n",
              "        0.19607843],\n",
              "       [0.7411765 , 0.827451  , 0.9411765 , ..., 0.7647059 , 0.74509805,\n",
              "        0.67058825],\n",
              "       [0.8980392 , 0.8980392 , 0.9372549 , ..., 0.6392157 , 0.6392157 ,\n",
              "        0.6313726 ]], dtype=float32)"
            ]
          },
          "metadata": {
            "tags": []
          },
          "execution_count": 9
        }
      ]
    },
    {
      "cell_type": "code",
      "metadata": {
        "id": "c1ebeamRx0fG"
      },
      "source": [
        "X_test = X_test.astype(\"float32\") / 255"
      ],
      "execution_count": null,
      "outputs": []
    },
    {
      "cell_type": "code",
      "metadata": {
        "id": "0omCbt4Nc7Tp"
      },
      "source": [
        "y_train=y_train.reshape(-1)"
      ],
      "execution_count": null,
      "outputs": []
    },
    {
      "cell_type": "code",
      "metadata": {
        "id": "90msTmELhrog"
      },
      "source": [
        "y_test=y_test.reshape(-1)"
      ],
      "execution_count": null,
      "outputs": []
    },
    {
      "cell_type": "code",
      "metadata": {
        "colab": {
          "base_uri": "https://localhost:8080/"
        },
        "id": "iRlqjGFCtW-h",
        "outputId": "d82b0176-7961-4153-a6a9-3b2bdb6c7bd3"
      },
      "source": [
        "X_train.shape"
      ],
      "execution_count": null,
      "outputs": [
        {
          "output_type": "execute_result",
          "data": {
            "text/plain": [
              "(50000, 3072)"
            ]
          },
          "metadata": {
            "tags": []
          },
          "execution_count": 13
        }
      ]
    },
    {
      "cell_type": "code",
      "metadata": {
        "colab": {
          "base_uri": "https://localhost:8080/"
        },
        "id": "FDfT-JMKto0F",
        "outputId": "c1c9f229-9ffa-4cf9-f0ae-9fbfd4236e12"
      },
      "source": [
        "y_train.shape"
      ],
      "execution_count": null,
      "outputs": [
        {
          "output_type": "execute_result",
          "data": {
            "text/plain": [
              "(50000,)"
            ]
          },
          "metadata": {
            "tags": []
          },
          "execution_count": 14
        }
      ]
    },
    {
      "cell_type": "code",
      "metadata": {
        "id": "7z2Y7rA8dB4V",
        "colab": {
          "base_uri": "https://localhost:8080/"
        },
        "outputId": "d1f702b5-61d7-4f7a-9225-5a5ebab5b270"
      },
      "source": [
        "\n",
        "model = Sequential()\n",
        "\n",
        "#Input Layer\n",
        "model.add(Dense(X_train.shape[1], activation='relu', input_dim = X_train.shape[1]))\n",
        "\n",
        "#Hidden Layer\n",
        "\n",
        "model.add(Dense(3000, activation='relu'))\n",
        "model.add(Dropout(0.1))\n",
        "model.add(Dense(1000, activation='relu'))\n",
        "\n",
        "\n",
        "\n",
        "#output layer\n",
        "model.add(Dense(10, activation = 'sigmoid'))\n",
        "\n",
        "model.compile(optimizer='SGD',\n",
        "              loss='sparse_categorical_crossentropy',\n",
        "              metrics=['accuracy'])\n",
        "\n",
        "model.fit(X_train, y_train, epochs=10)"
      ],
      "execution_count": null,
      "outputs": [
        {
          "output_type": "stream",
          "text": [
            "Epoch 1/10\n",
            "1563/1563 [==============================] - 213s 136ms/step - loss: 1.9389 - accuracy: 0.3054\n",
            "Epoch 2/10\n",
            "1563/1563 [==============================] - 203s 130ms/step - loss: 1.6458 - accuracy: 0.4174\n",
            "Epoch 3/10\n",
            "1563/1563 [==============================] - 183s 117ms/step - loss: 1.5485 - accuracy: 0.4556\n",
            "Epoch 4/10\n",
            "1563/1563 [==============================] - 185s 119ms/step - loss: 1.4779 - accuracy: 0.4758\n",
            "Epoch 5/10\n",
            "1563/1563 [==============================] - 184s 118ms/step - loss: 1.4248 - accuracy: 0.4956\n",
            "Epoch 6/10\n",
            "1563/1563 [==============================] - 182s 117ms/step - loss: 1.3757 - accuracy: 0.5145\n",
            "Epoch 7/10\n",
            "1563/1563 [==============================] - 182s 116ms/step - loss: 1.3256 - accuracy: 0.5304\n",
            "Epoch 8/10\n",
            "1563/1563 [==============================] - 182s 116ms/step - loss: 1.2949 - accuracy: 0.5439\n",
            "Epoch 9/10\n",
            "1563/1563 [==============================] - 181s 116ms/step - loss: 1.2579 - accuracy: 0.5561\n",
            "Epoch 10/10\n",
            "1563/1563 [==============================] - 210s 134ms/step - loss: 1.2211 - accuracy: 0.5684\n"
          ],
          "name": "stdout"
        },
        {
          "output_type": "execute_result",
          "data": {
            "text/plain": [
              "<tensorflow.python.keras.callbacks.History at 0x7fa880af4b10>"
            ]
          },
          "metadata": {
            "tags": []
          },
          "execution_count": 15
        }
      ]
    },
    {
      "cell_type": "code",
      "metadata": {
        "id": "Yk9NmQg9xNHD"
      },
      "source": [
        "y_predict = model.predict(X_test)"
      ],
      "execution_count": null,
      "outputs": []
    },
    {
      "cell_type": "code",
      "metadata": {
        "id": "ylbtcBG4y-9n"
      },
      "source": [
        "predicted_class = [np.argmax(element) for element in y_predict]"
      ],
      "execution_count": null,
      "outputs": []
    },
    {
      "cell_type": "code",
      "metadata": {
        "colab": {
          "base_uri": "https://localhost:8080/"
        },
        "id": "WtpgYlDIyx76",
        "outputId": "2618bf92-29f4-4fa6-95d3-98b80a23d7c3"
      },
      "source": [
        "y_predict"
      ],
      "execution_count": null,
      "outputs": [
        {
          "output_type": "execute_result",
          "data": {
            "text/plain": [
              "array([[0.48152986, 0.39187992, 0.8754358 , ..., 0.02175909, 0.43985862,\n",
              "        0.07877412],\n",
              "       [0.86182463, 0.94307595, 0.40914482, ..., 0.06172994, 0.9806873 ,\n",
              "        0.97870225],\n",
              "       [0.9838227 , 0.82554203, 0.53006995, ..., 0.336628  , 0.9778195 ,\n",
              "        0.9105259 ],\n",
              "       ...,\n",
              "       [0.08466473, 0.04158551, 0.9117099 , ..., 0.4309771 , 0.44167247,\n",
              "        0.16231826],\n",
              "       [0.45081684, 0.22362512, 0.89414203, ..., 0.30529767, 0.06985396,\n",
              "        0.14660674],\n",
              "       [0.4598679 , 0.2556396 , 0.6807919 , ..., 0.91795015, 0.16614178,\n",
              "        0.28287813]], dtype=float32)"
            ]
          },
          "metadata": {
            "tags": []
          },
          "execution_count": 18
        }
      ]
    },
    {
      "cell_type": "code",
      "metadata": {
        "id": "BalDvqKvxM8a"
      },
      "source": [
        "from sklearn.metrics import confusion_matrix , classification_report"
      ],
      "execution_count": null,
      "outputs": []
    },
    {
      "cell_type": "code",
      "metadata": {
        "id": "-QH0pawsxMpo"
      },
      "source": [
        "from sklearn.metrics import accuracy_score"
      ],
      "execution_count": null,
      "outputs": []
    },
    {
      "cell_type": "code",
      "metadata": {
        "colab": {
          "base_uri": "https://localhost:8080/"
        },
        "id": "hojMq0VPygSH",
        "outputId": "db021d5c-e499-4a91-89d0-bd710d47c9b9"
      },
      "source": [
        "accuracy_MLP= accuracy_score(predicted_class,y_test)\n",
        "accuracy_MLP"
      ],
      "execution_count": null,
      "outputs": [
        {
          "output_type": "execute_result",
          "data": {
            "text/plain": [
              "0.5365"
            ]
          },
          "metadata": {
            "tags": []
          },
          "execution_count": 21
        }
      ]
    },
    {
      "cell_type": "code",
      "metadata": {
        "colab": {
          "base_uri": "https://localhost:8080/"
        },
        "id": "upCal_8dzk_R",
        "outputId": "390687c7-c59c-4ac8-b574-f16ac4b502d8"
      },
      "source": [
        "print(\"Classification Report: \\n\", classification_report(y_test,predicted_class))"
      ],
      "execution_count": null,
      "outputs": [
        {
          "output_type": "stream",
          "text": [
            "Classification Report: \n",
            "               precision    recall  f1-score   support\n",
            "\n",
            "           0       0.57      0.64      0.60      1000\n",
            "           1       0.63      0.65      0.64      1000\n",
            "           2       0.41      0.43      0.42      1000\n",
            "           3       0.41      0.27      0.33      1000\n",
            "           4       0.47      0.46      0.46      1000\n",
            "           5       0.47      0.43      0.45      1000\n",
            "           6       0.50      0.69      0.58      1000\n",
            "           7       0.66      0.57      0.61      1000\n",
            "           8       0.63      0.68      0.65      1000\n",
            "           9       0.60      0.55      0.57      1000\n",
            "\n",
            "    accuracy                           0.54     10000\n",
            "   macro avg       0.53      0.54      0.53     10000\n",
            "weighted avg       0.53      0.54      0.53     10000\n",
            "\n"
          ],
          "name": "stdout"
        }
      ]
    },
    {
      "cell_type": "markdown",
      "metadata": {
        "id": "N4bXAM894o5S"
      },
      "source": [
        "# Grey scale images"
      ]
    },
    {
      "cell_type": "code",
      "metadata": {
        "id": "O8vsUmWq46pI"
      },
      "source": [
        "(X_train_, y_train_), (X_test_, y_test_) = cifar10.load_data()"
      ],
      "execution_count": null,
      "outputs": []
    },
    {
      "cell_type": "code",
      "metadata": {
        "id": "6k--vG9W0LXM"
      },
      "source": [
        "X_train2 = np.array([cv2.cvtColor(image, cv2.COLOR_BGR2GRAY) for image in X_train_])\n",
        "X_test2 = np.array([cv2.cvtColor(image, cv2.COLOR_BGR2GRAY) for image in X_test_])"
      ],
      "execution_count": null,
      "outputs": []
    },
    {
      "cell_type": "code",
      "metadata": {
        "id": "cqkrKwbRx5Dg",
        "colab": {
          "base_uri": "https://localhost:8080/"
        },
        "outputId": "2e44f349-cea7-45eb-c66f-3cd2c97702d6"
      },
      "source": [
        "X_train2.shape"
      ],
      "execution_count": null,
      "outputs": [
        {
          "output_type": "execute_result",
          "data": {
            "text/plain": [
              "(50000, 32, 32)"
            ]
          },
          "metadata": {
            "tags": []
          },
          "execution_count": 25
        }
      ]
    },
    {
      "cell_type": "code",
      "metadata": {
        "id": "YgvqxYiF-dhR"
      },
      "source": [
        "X_train2 = X_train2.reshape(-1,1024)\n",
        "X_test2 = X_test2.reshape(-1,1024)"
      ],
      "execution_count": null,
      "outputs": []
    },
    {
      "cell_type": "code",
      "metadata": {
        "id": "bYAuO43qwfyo"
      },
      "source": [
        "X_train2  = X_train2/255\n",
        "X_test2  = X_test2/255"
      ],
      "execution_count": null,
      "outputs": []
    },
    {
      "cell_type": "code",
      "metadata": {
        "id": "um3PSYYnx_Ku",
        "colab": {
          "base_uri": "https://localhost:8080/"
        },
        "outputId": "b13af952-1ffe-4405-a4c1-34660857c815"
      },
      "source": [
        "model2 = Sequential()\n",
        "\n",
        "#Input Layer\n",
        "model2.add(Dense(X_train2.shape[1], activation='relu', input_dim = X_train2.shape[1]))\n",
        "\n",
        "#Hidden Layer\n",
        "\n",
        "model2.add(Dense(1000, activation='relu'))\n",
        "\n",
        "model2.add(Dense(300, activation='relu'))\n",
        "\n",
        "\n",
        "\n",
        "#output layer\n",
        "model2.add(Dense(10, activation = 'sigmoid'))\n",
        "\n",
        "model2.compile(optimizer='SGD',\n",
        "              loss='sparse_categorical_crossentropy',\n",
        "              metrics=['accuracy'])\n",
        "\n",
        "model2.fit(X_train2, y_train_, epochs=10)"
      ],
      "execution_count": null,
      "outputs": [
        {
          "output_type": "stream",
          "text": [
            "Epoch 1/10\n",
            "1563/1563 [==============================] - 30s 19ms/step - loss: 2.0983 - accuracy: 0.2350\n",
            "Epoch 2/10\n",
            "1563/1563 [==============================] - 28s 18ms/step - loss: 1.8832 - accuracy: 0.3336\n",
            "Epoch 3/10\n",
            "1563/1563 [==============================] - 28s 18ms/step - loss: 1.7960 - accuracy: 0.3653\n",
            "Epoch 4/10\n",
            "1563/1563 [==============================] - 27s 17ms/step - loss: 1.7366 - accuracy: 0.3861\n",
            "Epoch 5/10\n",
            "1563/1563 [==============================] - 27s 17ms/step - loss: 1.6905 - accuracy: 0.4073\n",
            "Epoch 6/10\n",
            "1563/1563 [==============================] - 27s 17ms/step - loss: 1.6484 - accuracy: 0.4153\n",
            "Epoch 7/10\n",
            "1563/1563 [==============================] - 27s 17ms/step - loss: 1.6121 - accuracy: 0.4311\n",
            "Epoch 8/10\n",
            "1563/1563 [==============================] - 28s 18ms/step - loss: 1.5859 - accuracy: 0.4435\n",
            "Epoch 9/10\n",
            "1563/1563 [==============================] - 26s 16ms/step - loss: 1.5517 - accuracy: 0.4550\n",
            "Epoch 10/10\n",
            "1563/1563 [==============================] - 29s 18ms/step - loss: 1.5250 - accuracy: 0.4605\n"
          ],
          "name": "stdout"
        },
        {
          "output_type": "execute_result",
          "data": {
            "text/plain": [
              "<tensorflow.python.keras.callbacks.History at 0x7fa88027d810>"
            ]
          },
          "metadata": {
            "tags": []
          },
          "execution_count": 28
        }
      ]
    },
    {
      "cell_type": "code",
      "metadata": {
        "id": "sTYzqpicyDt6"
      },
      "source": [
        "\n",
        "y_predict_grey = model2.predict(X_test2)\n",
        "predicted_class2 = [np.argmax(element) for element in y_predict_grey]"
      ],
      "execution_count": null,
      "outputs": []
    },
    {
      "cell_type": "code",
      "metadata": {
        "id": "1CbyJZigyHRO",
        "colab": {
          "base_uri": "https://localhost:8080/"
        },
        "outputId": "89b4f65f-6342-4515-ec9e-0847da872837"
      },
      "source": [
        "\n",
        "accuracy_MLP2= accuracy_score(predicted_class2,y_test_)\n",
        "accuracy_MLP2"
      ],
      "execution_count": null,
      "outputs": [
        {
          "output_type": "execute_result",
          "data": {
            "text/plain": [
              "0.424"
            ]
          },
          "metadata": {
            "tags": []
          },
          "execution_count": 30
        }
      ]
    },
    {
      "cell_type": "code",
      "metadata": {
        "colab": {
          "base_uri": "https://localhost:8080/"
        },
        "id": "uCF7vIzDyNYu",
        "outputId": "1d2b23f1-26e5-4ecb-8dc3-d8a30652a5c6"
      },
      "source": [
        "print(\"Classification Report: \\n\", classification_report(y_test_,predicted_class2))"
      ],
      "execution_count": null,
      "outputs": [
        {
          "output_type": "stream",
          "text": [
            "Classification Report: \n",
            "               precision    recall  f1-score   support\n",
            "\n",
            "           0       0.41      0.57      0.48      1000\n",
            "           1       0.51      0.56      0.53      1000\n",
            "           2       0.35      0.33      0.34      1000\n",
            "           3       0.32      0.18      0.23      1000\n",
            "           4       0.45      0.16      0.24      1000\n",
            "           5       0.33      0.51      0.40      1000\n",
            "           6       0.39      0.62      0.48      1000\n",
            "           7       0.50      0.48      0.49      1000\n",
            "           8       0.69      0.30      0.42      1000\n",
            "           9       0.50      0.51      0.50      1000\n",
            "\n",
            "    accuracy                           0.42     10000\n",
            "   macro avg       0.44      0.42      0.41     10000\n",
            "weighted avg       0.44      0.42      0.41     10000\n",
            "\n"
          ],
          "name": "stdout"
        }
      ]
    }
  ]
}