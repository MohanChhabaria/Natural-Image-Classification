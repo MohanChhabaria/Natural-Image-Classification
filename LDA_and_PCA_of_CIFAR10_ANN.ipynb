{
  "nbformat": 4,
  "nbformat_minor": 0,
  "metadata": {
    "colab": {
      "name": "LDA  and PCA of CIFAR10_ANN.ipynb",
      "provenance": []
    },
    "kernelspec": {
      "name": "python3",
      "display_name": "Python 3"
    },
    "language_info": {
      "name": "python"
    }
  },
  "cells": [
    {
      "cell_type": "code",
      "metadata": {
        "id": "O-xu-DG_xSpa"
      },
      "source": [
        "import numpy as np\n",
        "import pandas as pd\n",
        "\n",
        "from keras.datasets import cifar10\n",
        "from sklearn.neural_network import MLPClassifier\n",
        "from tensorflow.keras import datasets, layers, models\n",
        "from tensorflow.keras import Sequential\n",
        "from tensorflow.keras.layers import Flatten, Dense, Softmax\n",
        "from tensorflow.keras import optimizers\n",
        "from keras.layers import Dropout\n",
        "import cv2\n",
        "from sklearn.model_selection import train_test_split"
      ],
      "execution_count": null,
      "outputs": []
    },
    {
      "cell_type": "markdown",
      "metadata": {
        "id": "Lvkgva0XfyaY"
      },
      "source": [
        ""
      ]
    },
    {
      "cell_type": "markdown",
      "metadata": {
        "id": "p_IShGPIfyRS"
      },
      "source": [
        ""
      ]
    },
    {
      "cell_type": "code",
      "metadata": {
        "id": "vIre7SstFq4N"
      },
      "source": [
        "(X_train, y_train), (X_test, y_test) = cifar10.load_data()"
      ],
      "execution_count": null,
      "outputs": []
    },
    {
      "cell_type": "code",
      "metadata": {
        "id": "-cihE4q8xnbC",
        "colab": {
          "base_uri": "https://localhost:8080/"
        },
        "outputId": "cb8812d1-f8e9-4b0d-edab-92c2433755d8"
      },
      "source": [
        "X_train.shape"
      ],
      "execution_count": null,
      "outputs": [
        {
          "output_type": "execute_result",
          "data": {
            "text/plain": [
              "(50000, 32, 32, 3)"
            ]
          },
          "metadata": {
            "tags": []
          },
          "execution_count": 30
        }
      ]
    },
    {
      "cell_type": "code",
      "metadata": {
        "id": "aHlGN892xtHP",
        "colab": {
          "base_uri": "https://localhost:8080/"
        },
        "outputId": "84ff1820-b0b2-4b51-b064-b84c436bd2e2"
      },
      "source": [
        "y_train.shape"
      ],
      "execution_count": null,
      "outputs": [
        {
          "output_type": "execute_result",
          "data": {
            "text/plain": [
              "(50000, 1)"
            ]
          },
          "metadata": {
            "tags": []
          },
          "execution_count": 31
        }
      ]
    },
    {
      "cell_type": "code",
      "metadata": {
        "colab": {
          "base_uri": "https://localhost:8080/"
        },
        "id": "yAQzdET8bNul",
        "outputId": "c385a4da-2e6e-4ce5-e55c-8b55edd8072d"
      },
      "source": [
        "X_test.shape"
      ],
      "execution_count": null,
      "outputs": [
        {
          "output_type": "execute_result",
          "data": {
            "text/plain": [
              "(10000, 32, 32, 3)"
            ]
          },
          "metadata": {
            "tags": []
          },
          "execution_count": 32
        }
      ]
    },
    {
      "cell_type": "markdown",
      "metadata": {
        "id": "grs6sB6Rcd4Z"
      },
      "source": [
        "Reshaping the data so that t can be fit into MLP classifier"
      ]
    },
    {
      "cell_type": "code",
      "metadata": {
        "id": "dID49pXbxxXQ"
      },
      "source": [
        "X_train=X_train.reshape(-1,3072)"
      ],
      "execution_count": null,
      "outputs": []
    },
    {
      "cell_type": "code",
      "metadata": {
        "id": "aPkh533ZhuZf"
      },
      "source": [
        "X_test=X_test.reshape(-1,3072)"
      ],
      "execution_count": null,
      "outputs": []
    },
    {
      "cell_type": "markdown",
      "metadata": {
        "id": "CCytHrNGckDr"
      },
      "source": [
        "Preprocessing the data"
      ]
    },
    {
      "cell_type": "code",
      "metadata": {
        "id": "m49B_Z-chzWA"
      },
      "source": [
        " X_train = X_train.astype(\"float32\") / 255"
      ],
      "execution_count": null,
      "outputs": []
    },
    {
      "cell_type": "code",
      "metadata": {
        "colab": {
          "base_uri": "https://localhost:8080/"
        },
        "id": "zGPIWBIRZy2o",
        "outputId": "06aad313-6a25-439f-a9f7-3072132f326b"
      },
      "source": [
        "X_train"
      ],
      "execution_count": null,
      "outputs": [
        {
          "output_type": "execute_result",
          "data": {
            "text/plain": [
              "array([[0.23137255, 0.24313726, 0.24705882, ..., 0.48235294, 0.36078432,\n",
              "        0.28235295],\n",
              "       [0.6039216 , 0.69411767, 0.73333335, ..., 0.56078434, 0.52156866,\n",
              "        0.5647059 ],\n",
              "       [1.        , 1.        , 1.        , ..., 0.3137255 , 0.3372549 ,\n",
              "        0.32941177],\n",
              "       ...,\n",
              "       [0.13725491, 0.69803923, 0.92156863, ..., 0.04705882, 0.12156863,\n",
              "        0.19607843],\n",
              "       [0.7411765 , 0.827451  , 0.9411765 , ..., 0.7647059 , 0.74509805,\n",
              "        0.67058825],\n",
              "       [0.8980392 , 0.8980392 , 0.9372549 , ..., 0.6392157 , 0.6392157 ,\n",
              "        0.6313726 ]], dtype=float32)"
            ]
          },
          "metadata": {
            "tags": []
          },
          "execution_count": 36
        }
      ]
    },
    {
      "cell_type": "code",
      "metadata": {
        "id": "c1ebeamRx0fG"
      },
      "source": [
        "X_test = X_test.astype(\"float32\") / 255"
      ],
      "execution_count": null,
      "outputs": []
    },
    {
      "cell_type": "code",
      "metadata": {
        "id": "0omCbt4Nc7Tp"
      },
      "source": [
        "y_train=y_train.reshape(-1)"
      ],
      "execution_count": null,
      "outputs": []
    },
    {
      "cell_type": "code",
      "metadata": {
        "id": "90msTmELhrog"
      },
      "source": [
        "y_test=y_test.reshape(-1)"
      ],
      "execution_count": null,
      "outputs": []
    },
    {
      "cell_type": "code",
      "metadata": {
        "id": "RSMdys7pF1kY"
      },
      "source": [
        "from sklearn.discriminant_analysis import LinearDiscriminantAnalysis"
      ],
      "execution_count": null,
      "outputs": []
    },
    {
      "cell_type": "code",
      "metadata": {
        "colab": {
          "base_uri": "https://localhost:8080/"
        },
        "id": "j438b5t9G00G",
        "outputId": "d8d5d6c3-822c-44e4-a906-9d1d2ee3f16d"
      },
      "source": [
        "X=np.concatenate((X_train, X_test), axis=0)\n",
        "X"
      ],
      "execution_count": null,
      "outputs": [
        {
          "output_type": "execute_result",
          "data": {
            "text/plain": [
              "array([[0.23137255, 0.24313726, 0.24705882, ..., 0.48235294, 0.36078432,\n",
              "        0.28235295],\n",
              "       [0.6039216 , 0.69411767, 0.73333335, ..., 0.56078434, 0.52156866,\n",
              "        0.5647059 ],\n",
              "       [1.        , 1.        , 1.        , ..., 0.3137255 , 0.3372549 ,\n",
              "        0.32941177],\n",
              "       ...,\n",
              "       [0.07843138, 0.05882353, 0.04705882, ..., 0.09803922, 0.07843138,\n",
              "        0.18431373],\n",
              "       [0.09803922, 0.15686275, 0.04705882, ..., 0.36078432, 0.47058824,\n",
              "        0.3137255 ],\n",
              "       [0.28627452, 0.30588236, 0.29411766, ..., 0.10588235, 0.10196079,\n",
              "        0.10196079]], dtype=float32)"
            ]
          },
          "metadata": {
            "tags": []
          },
          "execution_count": 41
        }
      ]
    },
    {
      "cell_type": "code",
      "metadata": {
        "colab": {
          "base_uri": "https://localhost:8080/"
        },
        "id": "9AbS1uyZMANL",
        "outputId": "ec04c675-9c52-4506-8d21-03bd98c4e3c7"
      },
      "source": [
        "y_test"
      ],
      "execution_count": null,
      "outputs": [
        {
          "output_type": "execute_result",
          "data": {
            "text/plain": [
              "array([3, 8, 8, ..., 5, 1, 7], dtype=uint8)"
            ]
          },
          "metadata": {
            "tags": []
          },
          "execution_count": 45
        }
      ]
    },
    {
      "cell_type": "code",
      "metadata": {
        "colab": {
          "base_uri": "https://localhost:8080/"
        },
        "id": "px05mm0iLls2",
        "outputId": "62d96278-d3d5-4c44-80fd-8cc2e6a223ae"
      },
      "source": [
        "X.shape"
      ],
      "execution_count": null,
      "outputs": [
        {
          "output_type": "execute_result",
          "data": {
            "text/plain": [
              "(60000, 3072)"
            ]
          },
          "metadata": {
            "tags": []
          },
          "execution_count": 42
        }
      ]
    },
    {
      "cell_type": "code",
      "metadata": {
        "colab": {
          "base_uri": "https://localhost:8080/"
        },
        "id": "IlmaL0h0LqKo",
        "outputId": "d9fa86af-ccde-4e3b-a0d0-905236804bd6"
      },
      "source": [
        "y=np.concatenate((y_train, y_test), axis=0)\n",
        "y"
      ],
      "execution_count": null,
      "outputs": [
        {
          "output_type": "execute_result",
          "data": {
            "text/plain": [
              "array([6, 9, 9, ..., 5, 1, 7], dtype=uint8)"
            ]
          },
          "metadata": {
            "tags": []
          },
          "execution_count": 43
        }
      ]
    },
    {
      "cell_type": "code",
      "metadata": {
        "colab": {
          "base_uri": "https://localhost:8080/"
        },
        "id": "Z50ZIK1yMHql",
        "outputId": "16405720-dc20-45c9-dd2d-7f9169e2dfec"
      },
      "source": [
        "y[50000:]"
      ],
      "execution_count": null,
      "outputs": [
        {
          "output_type": "execute_result",
          "data": {
            "text/plain": [
              "array([3, 8, 8, ..., 5, 1, 7], dtype=uint8)"
            ]
          },
          "metadata": {
            "tags": []
          },
          "execution_count": 46
        }
      ]
    },
    {
      "cell_type": "code",
      "metadata": {
        "colab": {
          "base_uri": "https://localhost:8080/"
        },
        "id": "zuQ15cRXL8vz",
        "outputId": "46348bb9-87b0-4f32-c265-8dc2898d545c"
      },
      "source": [
        "y.shape"
      ],
      "execution_count": null,
      "outputs": [
        {
          "output_type": "execute_result",
          "data": {
            "text/plain": [
              "(60000,)"
            ]
          },
          "metadata": {
            "tags": []
          },
          "execution_count": 44
        }
      ]
    },
    {
      "cell_type": "code",
      "metadata": {
        "colab": {
          "base_uri": "https://localhost:8080/"
        },
        "id": "5NNUaJVNGKlq",
        "outputId": "d6527eda-a6bb-40d6-ff31-ec90734bc5b2"
      },
      "source": [
        "lda = LinearDiscriminantAnalysis()\n",
        "newlda=lda.fit_transform(X,y)\n",
        "newlda"
      ],
      "execution_count": null,
      "outputs": [
        {
          "output_type": "execute_result",
          "data": {
            "text/plain": [
              "array([[ 1.83151455, -1.74718696, -0.14908807, ..., -1.39322008,\n",
              "         0.08891678, -0.17417244],\n",
              "       [-1.43774066, -0.83969404,  0.61648247, ...,  1.18555974,\n",
              "         0.41016099, -0.99411408],\n",
              "       [-2.12395246, -0.51622921,  0.32076794, ...,  0.06785945,\n",
              "        -0.68078304,  1.08862582],\n",
              "       ...,\n",
              "       [ 1.53098945,  0.3906611 , -0.32405058, ...,  0.70792814,\n",
              "        -0.25994758,  0.84665418],\n",
              "       [ 0.53331286, -0.88488895, -0.81235965, ...,  0.9296061 ,\n",
              "         1.07468137, -0.36559309],\n",
              "       [ 0.5834912 ,  1.03283111,  0.73942996, ...,  1.18051261,\n",
              "         0.22681207,  0.24457671]])"
            ]
          },
          "metadata": {
            "tags": []
          },
          "execution_count": 47
        }
      ]
    },
    {
      "cell_type": "code",
      "metadata": {
        "colab": {
          "base_uri": "https://localhost:8080/",
          "height": 402
        },
        "id": "dMspEi2zHzSQ",
        "outputId": "65170d6f-2d92-4f58-a45d-9816268d100c"
      },
      "source": [
        "newlda"
      ],
      "execution_count": null,
      "outputs": [
        {
          "output_type": "execute_result",
          "data": {
            "text/html": [
              "<div>\n",
              "<style scoped>\n",
              "    .dataframe tbody tr th:only-of-type {\n",
              "        vertical-align: middle;\n",
              "    }\n",
              "\n",
              "    .dataframe tbody tr th {\n",
              "        vertical-align: top;\n",
              "    }\n",
              "\n",
              "    .dataframe thead th {\n",
              "        text-align: right;\n",
              "    }\n",
              "</style>\n",
              "<table border=\"1\" class=\"dataframe\">\n",
              "  <thead>\n",
              "    <tr style=\"text-align: right;\">\n",
              "      <th></th>\n",
              "      <th>0</th>\n",
              "      <th>1</th>\n",
              "      <th>2</th>\n",
              "      <th>3</th>\n",
              "      <th>4</th>\n",
              "      <th>5</th>\n",
              "      <th>6</th>\n",
              "      <th>7</th>\n",
              "      <th>8</th>\n",
              "    </tr>\n",
              "  </thead>\n",
              "  <tbody>\n",
              "    <tr>\n",
              "      <th>0</th>\n",
              "      <td>1.831515</td>\n",
              "      <td>-1.747187</td>\n",
              "      <td>-0.149088</td>\n",
              "      <td>0.501044</td>\n",
              "      <td>-0.581164</td>\n",
              "      <td>0.242916</td>\n",
              "      <td>-1.393220</td>\n",
              "      <td>0.088917</td>\n",
              "      <td>-0.174172</td>\n",
              "    </tr>\n",
              "    <tr>\n",
              "      <th>1</th>\n",
              "      <td>-1.437741</td>\n",
              "      <td>-0.839694</td>\n",
              "      <td>0.616482</td>\n",
              "      <td>1.873415</td>\n",
              "      <td>0.239235</td>\n",
              "      <td>-1.062732</td>\n",
              "      <td>1.185560</td>\n",
              "      <td>0.410161</td>\n",
              "      <td>-0.994114</td>\n",
              "    </tr>\n",
              "    <tr>\n",
              "      <th>2</th>\n",
              "      <td>-2.123952</td>\n",
              "      <td>-0.516229</td>\n",
              "      <td>0.320768</td>\n",
              "      <td>-2.828314</td>\n",
              "      <td>-0.097479</td>\n",
              "      <td>0.842794</td>\n",
              "      <td>0.067859</td>\n",
              "      <td>-0.680783</td>\n",
              "      <td>1.088626</td>\n",
              "    </tr>\n",
              "    <tr>\n",
              "      <th>3</th>\n",
              "      <td>0.984618</td>\n",
              "      <td>-1.407486</td>\n",
              "      <td>-0.854844</td>\n",
              "      <td>-0.124387</td>\n",
              "      <td>-1.115774</td>\n",
              "      <td>-0.741937</td>\n",
              "      <td>-0.631171</td>\n",
              "      <td>0.630945</td>\n",
              "      <td>0.524816</td>\n",
              "    </tr>\n",
              "    <tr>\n",
              "      <th>4</th>\n",
              "      <td>-2.120086</td>\n",
              "      <td>-0.711872</td>\n",
              "      <td>-0.025417</td>\n",
              "      <td>-0.993286</td>\n",
              "      <td>-0.183469</td>\n",
              "      <td>-0.223199</td>\n",
              "      <td>1.370225</td>\n",
              "      <td>-0.222635</td>\n",
              "      <td>0.363696</td>\n",
              "    </tr>\n",
              "    <tr>\n",
              "      <th>...</th>\n",
              "      <td>...</td>\n",
              "      <td>...</td>\n",
              "      <td>...</td>\n",
              "      <td>...</td>\n",
              "      <td>...</td>\n",
              "      <td>...</td>\n",
              "      <td>...</td>\n",
              "      <td>...</td>\n",
              "      <td>...</td>\n",
              "    </tr>\n",
              "    <tr>\n",
              "      <th>59995</th>\n",
              "      <td>-1.105696</td>\n",
              "      <td>0.169845</td>\n",
              "      <td>-1.101910</td>\n",
              "      <td>0.667714</td>\n",
              "      <td>-1.010158</td>\n",
              "      <td>-0.739507</td>\n",
              "      <td>0.516277</td>\n",
              "      <td>1.736384</td>\n",
              "      <td>0.653153</td>\n",
              "    </tr>\n",
              "    <tr>\n",
              "      <th>59996</th>\n",
              "      <td>1.085464</td>\n",
              "      <td>-0.385151</td>\n",
              "      <td>0.501110</td>\n",
              "      <td>-1.188347</td>\n",
              "      <td>-1.492376</td>\n",
              "      <td>-1.551850</td>\n",
              "      <td>-0.510910</td>\n",
              "      <td>-0.562201</td>\n",
              "      <td>3.770143</td>\n",
              "    </tr>\n",
              "    <tr>\n",
              "      <th>59997</th>\n",
              "      <td>1.530989</td>\n",
              "      <td>0.390661</td>\n",
              "      <td>-0.324051</td>\n",
              "      <td>0.109324</td>\n",
              "      <td>-0.672120</td>\n",
              "      <td>0.199182</td>\n",
              "      <td>0.707928</td>\n",
              "      <td>-0.259948</td>\n",
              "      <td>0.846654</td>\n",
              "    </tr>\n",
              "    <tr>\n",
              "      <th>59998</th>\n",
              "      <td>0.533313</td>\n",
              "      <td>-0.884889</td>\n",
              "      <td>-0.812360</td>\n",
              "      <td>0.826079</td>\n",
              "      <td>0.019665</td>\n",
              "      <td>-0.441773</td>\n",
              "      <td>0.929606</td>\n",
              "      <td>1.074681</td>\n",
              "      <td>-0.365593</td>\n",
              "    </tr>\n",
              "    <tr>\n",
              "      <th>59999</th>\n",
              "      <td>0.583491</td>\n",
              "      <td>1.032831</td>\n",
              "      <td>0.739430</td>\n",
              "      <td>0.444392</td>\n",
              "      <td>0.341681</td>\n",
              "      <td>-0.864328</td>\n",
              "      <td>1.180513</td>\n",
              "      <td>0.226812</td>\n",
              "      <td>0.244577</td>\n",
              "    </tr>\n",
              "  </tbody>\n",
              "</table>\n",
              "<p>60000 rows × 9 columns</p>\n",
              "</div>"
            ],
            "text/plain": [
              "              0         1         2  ...         6         7         8\n",
              "0      1.831515 -1.747187 -0.149088  ... -1.393220  0.088917 -0.174172\n",
              "1     -1.437741 -0.839694  0.616482  ...  1.185560  0.410161 -0.994114\n",
              "2     -2.123952 -0.516229  0.320768  ...  0.067859 -0.680783  1.088626\n",
              "3      0.984618 -1.407486 -0.854844  ... -0.631171  0.630945  0.524816\n",
              "4     -2.120086 -0.711872 -0.025417  ...  1.370225 -0.222635  0.363696\n",
              "...         ...       ...       ...  ...       ...       ...       ...\n",
              "59995 -1.105696  0.169845 -1.101910  ...  0.516277  1.736384  0.653153\n",
              "59996  1.085464 -0.385151  0.501110  ... -0.510910 -0.562201  3.770143\n",
              "59997  1.530989  0.390661 -0.324051  ...  0.707928 -0.259948  0.846654\n",
              "59998  0.533313 -0.884889 -0.812360  ...  0.929606  1.074681 -0.365593\n",
              "59999  0.583491  1.032831  0.739430  ...  1.180513  0.226812  0.244577\n",
              "\n",
              "[60000 rows x 9 columns]"
            ]
          },
          "metadata": {
            "tags": []
          },
          "execution_count": 48
        }
      ]
    },
    {
      "cell_type": "code",
      "metadata": {
        "id": "xUTwOiP1H8uH"
      },
      "source": [
        "fet1,fet2,fet3,fet4,fet5,fet6,fet7,fet8,fet9=lda.explained_variance_ratio_"
      ],
      "execution_count": null,
      "outputs": []
    },
    {
      "cell_type": "code",
      "metadata": {
        "colab": {
          "base_uri": "https://localhost:8080/"
        },
        "id": "R5r7SzTCIcck",
        "outputId": "f8d3f2ae-ef5e-4d00-d25b-b9de57b608c2"
      },
      "source": [
        "fet1"
      ],
      "execution_count": null,
      "outputs": [
        {
          "output_type": "execute_result",
          "data": {
            "text/plain": [
              "0.37497580120223173"
            ]
          },
          "metadata": {
            "tags": []
          },
          "execution_count": 50
        }
      ]
    },
    {
      "cell_type": "code",
      "metadata": {
        "colab": {
          "base_uri": "https://localhost:8080/"
        },
        "id": "47T2003LITKu",
        "outputId": "3c483823-9453-446f-f758-9ffc0041a3d2"
      },
      "source": [
        "fet1+fet2+fet3+fet4+fet5+fet6+fet7+fet8+fet9"
      ],
      "execution_count": null,
      "outputs": [
        {
          "output_type": "execute_result",
          "data": {
            "text/plain": [
              "1.0"
            ]
          },
          "metadata": {
            "tags": []
          },
          "execution_count": 51
        }
      ]
    },
    {
      "cell_type": "code",
      "metadata": {
        "id": "FPu8it_SNjMS"
      },
      "source": [
        "X_train_lda, X_test_lda, y_train_lda, y_test_lda = train_test_split( lda_df, y, test_size=(1/6), random_state=42)"
      ],
      "execution_count": null,
      "outputs": []
    },
    {
      "cell_type": "code",
      "metadata": {
        "colab": {
          "base_uri": "https://localhost:8080/"
        },
        "id": "vqFeD0aPNqY_",
        "outputId": "3b7720d6-0330-4196-bc18-58f9ddfd4040"
      },
      "source": [
        "X_train_lda.shape"
      ],
      "execution_count": null,
      "outputs": [
        {
          "output_type": "execute_result",
          "data": {
            "text/plain": [
              "(50000, 9)"
            ]
          },
          "metadata": {
            "tags": []
          },
          "execution_count": 54
        }
      ]
    },
    {
      "cell_type": "code",
      "metadata": {
        "id": "9hAUvtnkLEh5"
      },
      "source": [
        ""
      ],
      "execution_count": null,
      "outputs": []
    },
    {
      "cell_type": "code",
      "metadata": {
        "id": "IdqANNfkNaDg"
      },
      "source": [
        ""
      ],
      "execution_count": null,
      "outputs": []
    },
    {
      "cell_type": "code",
      "metadata": {
        "id": "7z2Y7rA8dB4V",
        "colab": {
          "base_uri": "https://localhost:8080/"
        },
        "outputId": "699292e8-deee-4f9c-ff56-9f2aebe0ac2e"
      },
      "source": [
        "\n",
        "model_lda = Sequential()\n",
        "\n",
        "#Input Layer\n",
        "model_lda.add(Dense(X_train_lda.shape[1], activation='relu', input_dim = X_train_lda.shape[1]))\n",
        "\n",
        "#Hidden Layer\n",
        "\n",
        "model_lda.add(Dense(10, activation='relu'))\n",
        "\n",
        "\n",
        "\n",
        "#output layer\n",
        "model_lda.add(Dense(10, activation = 'sigmoid'))\n",
        "\n",
        "model_lda.compile(optimizer='SGD',\n",
        "              loss='sparse_categorical_crossentropy',\n",
        "              metrics=['accuracy'])\n",
        "\n",
        "model_lda.fit(X_train_lda, y_train_lda, epochs=20)"
      ],
      "execution_count": null,
      "outputs": [
        {
          "output_type": "stream",
          "text": [
            "Epoch 1/20\n",
            "1563/1563 [==============================] - 2s 1ms/step - loss: 2.2328 - accuracy: 0.2008\n",
            "Epoch 2/20\n",
            "1563/1563 [==============================] - 2s 1ms/step - loss: 1.8231 - accuracy: 0.3540\n",
            "Epoch 3/20\n",
            "1563/1563 [==============================] - 2s 1ms/step - loss: 1.6660 - accuracy: 0.4292\n",
            "Epoch 4/20\n",
            "1563/1563 [==============================] - 2s 1ms/step - loss: 1.5832 - accuracy: 0.4615\n",
            "Epoch 5/20\n",
            "1563/1563 [==============================] - 2s 1ms/step - loss: 1.5429 - accuracy: 0.4700\n",
            "Epoch 6/20\n",
            "1563/1563 [==============================] - 2s 1ms/step - loss: 1.5177 - accuracy: 0.4799\n",
            "Epoch 7/20\n",
            "1563/1563 [==============================] - 2s 1ms/step - loss: 1.5034 - accuracy: 0.4873\n",
            "Epoch 8/20\n",
            "1563/1563 [==============================] - 2s 1ms/step - loss: 1.4975 - accuracy: 0.4885\n",
            "Epoch 9/20\n",
            "1563/1563 [==============================] - 2s 1ms/step - loss: 1.4844 - accuracy: 0.4940\n",
            "Epoch 10/20\n",
            "1563/1563 [==============================] - 2s 1ms/step - loss: 1.4864 - accuracy: 0.4964\n",
            "Epoch 11/20\n",
            "1563/1563 [==============================] - 2s 1ms/step - loss: 1.4833 - accuracy: 0.4945\n",
            "Epoch 12/20\n",
            "1563/1563 [==============================] - 2s 1ms/step - loss: 1.4764 - accuracy: 0.4976\n",
            "Epoch 13/20\n",
            "1563/1563 [==============================] - 2s 1ms/step - loss: 1.4791 - accuracy: 0.5013\n",
            "Epoch 14/20\n",
            "1563/1563 [==============================] - 2s 1ms/step - loss: 1.4691 - accuracy: 0.5019\n",
            "Epoch 15/20\n",
            "1563/1563 [==============================] - 2s 1ms/step - loss: 1.4724 - accuracy: 0.5025\n",
            "Epoch 16/20\n",
            "1563/1563 [==============================] - 2s 1ms/step - loss: 1.4768 - accuracy: 0.4982\n",
            "Epoch 17/20\n",
            "1563/1563 [==============================] - 2s 1ms/step - loss: 1.4787 - accuracy: 0.4984\n",
            "Epoch 18/20\n",
            "1563/1563 [==============================] - 2s 1ms/step - loss: 1.4787 - accuracy: 0.4979\n",
            "Epoch 19/20\n",
            "1563/1563 [==============================] - 2s 1ms/step - loss: 1.4687 - accuracy: 0.5001\n",
            "Epoch 20/20\n",
            "1563/1563 [==============================] - 2s 1ms/step - loss: 1.4664 - accuracy: 0.4979\n"
          ],
          "name": "stdout"
        },
        {
          "output_type": "execute_result",
          "data": {
            "text/plain": [
              "<tensorflow.python.keras.callbacks.History at 0x7fae5186d0d0>"
            ]
          },
          "metadata": {
            "tags": []
          },
          "execution_count": 70
        }
      ]
    },
    {
      "cell_type": "code",
      "metadata": {
        "id": "Yk9NmQg9xNHD"
      },
      "source": [
        "y_predict_lda = model_lda.predict(X_test_lda)"
      ],
      "execution_count": null,
      "outputs": []
    },
    {
      "cell_type": "code",
      "metadata": {
        "id": "ylbtcBG4y-9n"
      },
      "source": [
        "predicted_class_lda = [np.argmax(element) for element in y_predict_lda]"
      ],
      "execution_count": null,
      "outputs": []
    },
    {
      "cell_type": "code",
      "metadata": {
        "id": "WtpgYlDIyx76",
        "colab": {
          "base_uri": "https://localhost:8080/"
        },
        "outputId": "cf1f17f9-c353-43ac-fad1-63a53b9685b0"
      },
      "source": [
        "y_predict_lda"
      ],
      "execution_count": null,
      "outputs": [
        {
          "output_type": "execute_result",
          "data": {
            "text/plain": [
              "array([[0.9956969 , 0.9510304 , 0.48959076, ..., 0.19009733, 0.98724294,\n",
              "        0.8492155 ],\n",
              "       [0.92303646, 0.3004247 , 0.6846856 , ..., 0.31911618, 0.80303085,\n",
              "        0.37158978],\n",
              "       [0.46286333, 0.3100196 , 0.9958122 , ..., 0.61593986, 0.5460419 ,\n",
              "        0.3224622 ],\n",
              "       ...,\n",
              "       [0.45616305, 0.46594197, 0.44334185, ..., 0.74286795, 0.56242055,\n",
              "        0.92821443],\n",
              "       [0.48205963, 0.3349033 , 0.8220947 , ..., 0.72667766, 0.21135691,\n",
              "        0.2500804 ],\n",
              "       [0.3833829 , 0.4246443 , 0.6623999 , ..., 0.82210946, 0.08334565,\n",
              "        0.6439712 ]], dtype=float32)"
            ]
          },
          "metadata": {
            "tags": []
          },
          "execution_count": 88
        }
      ]
    },
    {
      "cell_type": "code",
      "metadata": {
        "id": "BalDvqKvxM8a"
      },
      "source": [
        "from sklearn.metrics import confusion_matrix , classification_report"
      ],
      "execution_count": null,
      "outputs": []
    },
    {
      "cell_type": "code",
      "metadata": {
        "id": "-QH0pawsxMpo"
      },
      "source": [
        "from sklearn.metrics import accuracy_score"
      ],
      "execution_count": null,
      "outputs": []
    },
    {
      "cell_type": "code",
      "metadata": {
        "id": "hojMq0VPygSH",
        "colab": {
          "base_uri": "https://localhost:8080/"
        },
        "outputId": "8b7af867-f7bb-462e-b57b-5c81df453e82"
      },
      "source": [
        "accuracy_MLP_lda= accuracy_score(predicted_class_lda,y_test_lda)\n",
        "accuracy_MLP_lda"
      ],
      "execution_count": null,
      "outputs": [
        {
          "output_type": "execute_result",
          "data": {
            "text/plain": [
              "0.501"
            ]
          },
          "metadata": {
            "tags": []
          },
          "execution_count": 76
        }
      ]
    },
    {
      "cell_type": "code",
      "metadata": {
        "id": "upCal_8dzk_R",
        "colab": {
          "base_uri": "https://localhost:8080/"
        },
        "outputId": "b44770b4-19f5-465f-d7ea-ef47cf16a236"
      },
      "source": [
        "print(\"Classification Report: \\n\", classification_report(y_test_lda,predicted_class_lda))"
      ],
      "execution_count": null,
      "outputs": [
        {
          "output_type": "stream",
          "text": [
            "Classification Report: \n",
            "               precision    recall  f1-score   support\n",
            "\n",
            "           0       0.55      0.56      0.55       993\n",
            "           1       0.55      0.58      0.57       979\n",
            "           2       0.38      0.44      0.41      1008\n",
            "           3       0.43      0.38      0.40      1066\n",
            "           4       0.46      0.39      0.42       977\n",
            "           5       0.47      0.42      0.44      1008\n",
            "           6       0.46      0.60      0.52       950\n",
            "           7       0.56      0.55      0.56      1025\n",
            "           8       0.60      0.54      0.57       995\n",
            "           9       0.56      0.58      0.57       999\n",
            "\n",
            "    accuracy                           0.50     10000\n",
            "   macro avg       0.50      0.50      0.50     10000\n",
            "weighted avg       0.50      0.50      0.50     10000\n",
            "\n"
          ],
          "name": "stdout"
        }
      ]
    },
    {
      "cell_type": "code",
      "metadata": {
        "colab": {
          "base_uri": "https://localhost:8080/"
        },
        "id": "jkbI68KG0cWL",
        "outputId": "7aa402df-f31b-4e46-e6ff-634d3d004098"
      },
      "source": [
        "from sklearn.decomposition import PCA\n",
        "pca = PCA(.75)\n",
        "pca.fit(X)"
      ],
      "execution_count": null,
      "outputs": [
        {
          "output_type": "execute_result",
          "data": {
            "text/plain": [
              "PCA(copy=True, iterated_power='auto', n_components=0.75, random_state=None,\n",
              "    svd_solver='auto', tol=0.0, whiten=False)"
            ]
          },
          "metadata": {
            "tags": []
          },
          "execution_count": 92
        }
      ]
    },
    {
      "cell_type": "code",
      "metadata": {
        "id": "a8rRZ04t3nI_"
      },
      "source": [
        "new_X = pca.transform(X)\n",
        "new_X = pd.DataFrame(new_X)"
      ],
      "execution_count": null,
      "outputs": []
    },
    {
      "cell_type": "code",
      "metadata": {
        "colab": {
          "base_uri": "https://localhost:8080/",
          "height": 422
        },
        "id": "eFVizIP74BzR",
        "outputId": "56cb5c13-1c22-46fe-c42a-ad4c7acf84e0"
      },
      "source": [
        "new_X"
      ],
      "execution_count": null,
      "outputs": [
        {
          "output_type": "execute_result",
          "data": {
            "text/html": [
              "<div>\n",
              "<style scoped>\n",
              "    .dataframe tbody tr th:only-of-type {\n",
              "        vertical-align: middle;\n",
              "    }\n",
              "\n",
              "    .dataframe tbody tr th {\n",
              "        vertical-align: top;\n",
              "    }\n",
              "\n",
              "    .dataframe thead th {\n",
              "        text-align: right;\n",
              "    }\n",
              "</style>\n",
              "<table border=\"1\" class=\"dataframe\">\n",
              "  <thead>\n",
              "    <tr style=\"text-align: right;\">\n",
              "      <th></th>\n",
              "      <th>0</th>\n",
              "      <th>1</th>\n",
              "      <th>2</th>\n",
              "      <th>3</th>\n",
              "      <th>4</th>\n",
              "      <th>5</th>\n",
              "      <th>6</th>\n",
              "      <th>7</th>\n",
              "      <th>8</th>\n",
              "      <th>9</th>\n",
              "      <th>10</th>\n",
              "      <th>11</th>\n",
              "      <th>12</th>\n",
              "      <th>13</th>\n",
              "      <th>14</th>\n",
              "      <th>15</th>\n",
              "      <th>16</th>\n",
              "      <th>17</th>\n",
              "      <th>18</th>\n",
              "      <th>19</th>\n",
              "      <th>20</th>\n",
              "    </tr>\n",
              "  </thead>\n",
              "  <tbody>\n",
              "    <tr>\n",
              "      <th>0</th>\n",
              "      <td>-6.440081</td>\n",
              "      <td>2.722950</td>\n",
              "      <td>1.474127</td>\n",
              "      <td>3.641109</td>\n",
              "      <td>-3.909117</td>\n",
              "      <td>0.581503</td>\n",
              "      <td>-0.611310</td>\n",
              "      <td>0.139462</td>\n",
              "      <td>3.478954</td>\n",
              "      <td>1.142491</td>\n",
              "      <td>0.368658</td>\n",
              "      <td>-0.103668</td>\n",
              "      <td>0.298230</td>\n",
              "      <td>0.500313</td>\n",
              "      <td>0.488314</td>\n",
              "      <td>-0.657091</td>\n",
              "      <td>-0.582482</td>\n",
              "      <td>0.358689</td>\n",
              "      <td>0.654774</td>\n",
              "      <td>-0.537266</td>\n",
              "      <td>-0.849663</td>\n",
              "    </tr>\n",
              "    <tr>\n",
              "      <th>1</th>\n",
              "      <td>0.784991</td>\n",
              "      <td>-0.962687</td>\n",
              "      <td>5.996037</td>\n",
              "      <td>-1.255510</td>\n",
              "      <td>-1.590010</td>\n",
              "      <td>1.152211</td>\n",
              "      <td>-0.660616</td>\n",
              "      <td>-0.443221</td>\n",
              "      <td>2.575090</td>\n",
              "      <td>2.499983</td>\n",
              "      <td>-3.141834</td>\n",
              "      <td>-1.208642</td>\n",
              "      <td>-0.905812</td>\n",
              "      <td>0.929253</td>\n",
              "      <td>0.804139</td>\n",
              "      <td>1.961017</td>\n",
              "      <td>-0.397212</td>\n",
              "      <td>1.997981</td>\n",
              "      <td>0.640499</td>\n",
              "      <td>3.083527</td>\n",
              "      <td>1.111255</td>\n",
              "    </tr>\n",
              "    <tr>\n",
              "      <th>2</th>\n",
              "      <td>7.703461</td>\n",
              "      <td>-11.525579</td>\n",
              "      <td>-2.776021</td>\n",
              "      <td>-2.049103</td>\n",
              "      <td>-1.911783</td>\n",
              "      <td>-2.176727</td>\n",
              "      <td>0.754897</td>\n",
              "      <td>-1.397314</td>\n",
              "      <td>-0.678302</td>\n",
              "      <td>-1.043811</td>\n",
              "      <td>3.005564</td>\n",
              "      <td>0.766500</td>\n",
              "      <td>1.644383</td>\n",
              "      <td>-0.875020</td>\n",
              "      <td>-1.761458</td>\n",
              "      <td>-1.030598</td>\n",
              "      <td>0.748411</td>\n",
              "      <td>0.972276</td>\n",
              "      <td>-0.212102</td>\n",
              "      <td>-1.980734</td>\n",
              "      <td>-1.123676</td>\n",
              "    </tr>\n",
              "    <tr>\n",
              "      <th>3</th>\n",
              "      <td>-10.382980</td>\n",
              "      <td>0.010114</td>\n",
              "      <td>1.068128</td>\n",
              "      <td>1.557536</td>\n",
              "      <td>-1.357623</td>\n",
              "      <td>0.837998</td>\n",
              "      <td>-0.249747</td>\n",
              "      <td>0.251159</td>\n",
              "      <td>1.460290</td>\n",
              "      <td>-0.366572</td>\n",
              "      <td>0.330905</td>\n",
              "      <td>-1.117495</td>\n",
              "      <td>-0.735023</td>\n",
              "      <td>-1.398312</td>\n",
              "      <td>0.838421</td>\n",
              "      <td>0.129408</td>\n",
              "      <td>-0.175971</td>\n",
              "      <td>0.984060</td>\n",
              "      <td>1.203884</td>\n",
              "      <td>-0.218894</td>\n",
              "      <td>-1.054724</td>\n",
              "    </tr>\n",
              "    <tr>\n",
              "      <th>4</th>\n",
              "      <td>-2.666208</td>\n",
              "      <td>-4.976683</td>\n",
              "      <td>1.024970</td>\n",
              "      <td>-3.518757</td>\n",
              "      <td>0.722494</td>\n",
              "      <td>-0.363712</td>\n",
              "      <td>-5.545829</td>\n",
              "      <td>1.559535</td>\n",
              "      <td>3.915226</td>\n",
              "      <td>-1.990751</td>\n",
              "      <td>-2.244325</td>\n",
              "      <td>-0.389686</td>\n",
              "      <td>-3.239236</td>\n",
              "      <td>-0.744419</td>\n",
              "      <td>-1.573423</td>\n",
              "      <td>-0.548066</td>\n",
              "      <td>0.190272</td>\n",
              "      <td>-2.023464</td>\n",
              "      <td>0.641144</td>\n",
              "      <td>0.875717</td>\n",
              "      <td>-1.243161</td>\n",
              "    </tr>\n",
              "    <tr>\n",
              "      <th>...</th>\n",
              "      <td>...</td>\n",
              "      <td>...</td>\n",
              "      <td>...</td>\n",
              "      <td>...</td>\n",
              "      <td>...</td>\n",
              "      <td>...</td>\n",
              "      <td>...</td>\n",
              "      <td>...</td>\n",
              "      <td>...</td>\n",
              "      <td>...</td>\n",
              "      <td>...</td>\n",
              "      <td>...</td>\n",
              "      <td>...</td>\n",
              "      <td>...</td>\n",
              "      <td>...</td>\n",
              "      <td>...</td>\n",
              "      <td>...</td>\n",
              "      <td>...</td>\n",
              "      <td>...</td>\n",
              "      <td>...</td>\n",
              "      <td>...</td>\n",
              "    </tr>\n",
              "    <tr>\n",
              "      <th>59995</th>\n",
              "      <td>4.447512</td>\n",
              "      <td>8.756063</td>\n",
              "      <td>10.062285</td>\n",
              "      <td>1.239530</td>\n",
              "      <td>2.882130</td>\n",
              "      <td>-3.723588</td>\n",
              "      <td>-1.172055</td>\n",
              "      <td>-6.177209</td>\n",
              "      <td>0.588477</td>\n",
              "      <td>-2.743876</td>\n",
              "      <td>3.750835</td>\n",
              "      <td>-2.901569</td>\n",
              "      <td>-0.228171</td>\n",
              "      <td>0.932809</td>\n",
              "      <td>-0.170054</td>\n",
              "      <td>-0.197960</td>\n",
              "      <td>-0.751411</td>\n",
              "      <td>-0.849920</td>\n",
              "      <td>-0.468989</td>\n",
              "      <td>3.396048</td>\n",
              "      <td>-1.889983</td>\n",
              "    </tr>\n",
              "    <tr>\n",
              "      <th>59996</th>\n",
              "      <td>-3.633442</td>\n",
              "      <td>8.047703</td>\n",
              "      <td>-0.612539</td>\n",
              "      <td>-1.441757</td>\n",
              "      <td>-2.259633</td>\n",
              "      <td>-1.025059</td>\n",
              "      <td>0.052041</td>\n",
              "      <td>-1.214899</td>\n",
              "      <td>-0.263247</td>\n",
              "      <td>0.368202</td>\n",
              "      <td>-1.171163</td>\n",
              "      <td>1.806591</td>\n",
              "      <td>-1.271428</td>\n",
              "      <td>0.667891</td>\n",
              "      <td>0.269811</td>\n",
              "      <td>-1.242682</td>\n",
              "      <td>-1.006890</td>\n",
              "      <td>0.418375</td>\n",
              "      <td>0.239644</td>\n",
              "      <td>0.562260</td>\n",
              "      <td>-0.995804</td>\n",
              "    </tr>\n",
              "    <tr>\n",
              "      <th>59997</th>\n",
              "      <td>-15.313474</td>\n",
              "      <td>2.507805</td>\n",
              "      <td>-0.269547</td>\n",
              "      <td>0.820814</td>\n",
              "      <td>3.273327</td>\n",
              "      <td>-4.032594</td>\n",
              "      <td>0.961239</td>\n",
              "      <td>0.560168</td>\n",
              "      <td>-1.877239</td>\n",
              "      <td>0.547139</td>\n",
              "      <td>3.112988</td>\n",
              "      <td>1.419754</td>\n",
              "      <td>-2.202723</td>\n",
              "      <td>0.502138</td>\n",
              "      <td>-0.075596</td>\n",
              "      <td>1.385177</td>\n",
              "      <td>-0.459253</td>\n",
              "      <td>-0.782107</td>\n",
              "      <td>-0.742663</td>\n",
              "      <td>2.523060</td>\n",
              "      <td>-0.452914</td>\n",
              "    </tr>\n",
              "    <tr>\n",
              "      <th>59998</th>\n",
              "      <td>-5.898956</td>\n",
              "      <td>2.029377</td>\n",
              "      <td>3.636821</td>\n",
              "      <td>0.222106</td>\n",
              "      <td>-0.527822</td>\n",
              "      <td>-1.732590</td>\n",
              "      <td>0.164358</td>\n",
              "      <td>-0.204557</td>\n",
              "      <td>2.117616</td>\n",
              "      <td>0.420965</td>\n",
              "      <td>0.192663</td>\n",
              "      <td>-1.542888</td>\n",
              "      <td>-0.091820</td>\n",
              "      <td>-0.599000</td>\n",
              "      <td>1.021304</td>\n",
              "      <td>0.757056</td>\n",
              "      <td>1.673560</td>\n",
              "      <td>0.387966</td>\n",
              "      <td>0.786148</td>\n",
              "      <td>-2.995287</td>\n",
              "      <td>-0.053366</td>\n",
              "    </tr>\n",
              "    <tr>\n",
              "      <th>59999</th>\n",
              "      <td>-1.793585</td>\n",
              "      <td>-1.885803</td>\n",
              "      <td>-2.178617</td>\n",
              "      <td>0.904888</td>\n",
              "      <td>0.708764</td>\n",
              "      <td>-0.403669</td>\n",
              "      <td>-1.520748</td>\n",
              "      <td>1.287403</td>\n",
              "      <td>-0.646915</td>\n",
              "      <td>0.141200</td>\n",
              "      <td>-2.754362</td>\n",
              "      <td>-0.267374</td>\n",
              "      <td>0.717904</td>\n",
              "      <td>2.373461</td>\n",
              "      <td>-2.443977</td>\n",
              "      <td>3.402620</td>\n",
              "      <td>-0.448105</td>\n",
              "      <td>-0.616756</td>\n",
              "      <td>-0.537775</td>\n",
              "      <td>0.028030</td>\n",
              "      <td>1.684495</td>\n",
              "    </tr>\n",
              "  </tbody>\n",
              "</table>\n",
              "<p>60000 rows × 21 columns</p>\n",
              "</div>"
            ],
            "text/plain": [
              "              0          1          2   ...        18        19        20\n",
              "0      -6.440081   2.722950   1.474127  ...  0.654774 -0.537266 -0.849663\n",
              "1       0.784991  -0.962687   5.996037  ...  0.640499  3.083527  1.111255\n",
              "2       7.703461 -11.525579  -2.776021  ... -0.212102 -1.980734 -1.123676\n",
              "3     -10.382980   0.010114   1.068128  ...  1.203884 -0.218894 -1.054724\n",
              "4      -2.666208  -4.976683   1.024970  ...  0.641144  0.875717 -1.243161\n",
              "...          ...        ...        ...  ...       ...       ...       ...\n",
              "59995   4.447512   8.756063  10.062285  ... -0.468989  3.396048 -1.889983\n",
              "59996  -3.633442   8.047703  -0.612539  ...  0.239644  0.562260 -0.995804\n",
              "59997 -15.313474   2.507805  -0.269547  ... -0.742663  2.523060 -0.452914\n",
              "59998  -5.898956   2.029377   3.636821  ...  0.786148 -2.995287 -0.053366\n",
              "59999  -1.793585  -1.885803  -2.178617  ... -0.537775  0.028030  1.684495\n",
              "\n",
              "[60000 rows x 21 columns]"
            ]
          },
          "metadata": {
            "tags": []
          },
          "execution_count": 94
        }
      ]
    },
    {
      "cell_type": "code",
      "metadata": {
        "colab": {
          "base_uri": "https://localhost:8080/"
        },
        "id": "HaC3zdhV4HdT",
        "outputId": "7a659648-3732-4dbc-f41d-2ba24b2366fb"
      },
      "source": [
        "fet_sum=0\n",
        "for i in range(21):\n",
        "  ft = pca.explained_variance_ratio_[i]\n",
        "  fet_sum+=ft\n",
        "fet_sum"
      ],
      "execution_count": null,
      "outputs": [
        {
          "output_type": "execute_result",
          "data": {
            "text/plain": [
              "0.7502413196489215"
            ]
          },
          "metadata": {
            "tags": []
          },
          "execution_count": 96
        }
      ]
    },
    {
      "cell_type": "code",
      "metadata": {
        "id": "lMB9KEuO34ef"
      },
      "source": [
        "X_train_pca, X_test_pca, y_train_pca, y_test_pca = train_test_split( new_X, y, test_size=(1/6), random_state=42)"
      ],
      "execution_count": null,
      "outputs": []
    },
    {
      "cell_type": "code",
      "metadata": {
        "colab": {
          "base_uri": "https://localhost:8080/"
        },
        "id": "tBtw7n_S5T8V",
        "outputId": "783aa2df-c559-4735-9404-3f02dbe5fb03"
      },
      "source": [
        "model_pca = Sequential()\n",
        "\n",
        "#Input Layer\n",
        "model_pca.add(Dense(X_train_pca.shape[1], activation='relu', input_dim = X_train_pca.shape[1]))\n",
        "\n",
        "#Hidden Layer\n",
        "\n",
        "model_pca.add(Dense(10, activation='relu'))\n",
        "\n",
        "\n",
        "\n",
        "#output layer\n",
        "model_pca.add(Dense(10, activation = 'sigmoid'))\n",
        "\n",
        "model_pca.compile(optimizer='SGD',\n",
        "              loss='sparse_categorical_crossentropy',\n",
        "              metrics=['accuracy'])\n",
        "\n",
        "model_pca.fit(X_train_pca, y_train_pca, epochs=20)"
      ],
      "execution_count": null,
      "outputs": [
        {
          "output_type": "stream",
          "text": [
            "Epoch 1/20\n",
            "1563/1563 [==============================] - 2s 1ms/step - loss: 2.1924 - accuracy: 0.1922\n",
            "Epoch 2/20\n",
            "1563/1563 [==============================] - 2s 1ms/step - loss: 1.9083 - accuracy: 0.2875\n",
            "Epoch 3/20\n",
            "1563/1563 [==============================] - 2s 1ms/step - loss: 1.8492 - accuracy: 0.3218\n",
            "Epoch 4/20\n",
            "1563/1563 [==============================] - 2s 1ms/step - loss: 1.7994 - accuracy: 0.3489\n",
            "Epoch 5/20\n",
            "1563/1563 [==============================] - 2s 1ms/step - loss: 1.7617 - accuracy: 0.3650\n",
            "Epoch 6/20\n",
            "1563/1563 [==============================] - 2s 1ms/step - loss: 1.7323 - accuracy: 0.3716\n",
            "Epoch 7/20\n",
            "1563/1563 [==============================] - 2s 1ms/step - loss: 1.7178 - accuracy: 0.3802\n",
            "Epoch 8/20\n",
            "1563/1563 [==============================] - 2s 1ms/step - loss: 1.7146 - accuracy: 0.3835\n",
            "Epoch 9/20\n",
            "1563/1563 [==============================] - 2s 1ms/step - loss: 1.7059 - accuracy: 0.3834\n",
            "Epoch 10/20\n",
            "1563/1563 [==============================] - 2s 1ms/step - loss: 1.6909 - accuracy: 0.3890\n",
            "Epoch 11/20\n",
            "1563/1563 [==============================] - 2s 1ms/step - loss: 1.6848 - accuracy: 0.3897\n",
            "Epoch 12/20\n",
            "1563/1563 [==============================] - 2s 1ms/step - loss: 1.6787 - accuracy: 0.3934\n",
            "Epoch 13/20\n",
            "1563/1563 [==============================] - 2s 1ms/step - loss: 1.6750 - accuracy: 0.3940\n",
            "Epoch 14/20\n",
            "1563/1563 [==============================] - 2s 1ms/step - loss: 1.6536 - accuracy: 0.4041\n",
            "Epoch 15/20\n",
            "1563/1563 [==============================] - 2s 1ms/step - loss: 1.6596 - accuracy: 0.4037\n",
            "Epoch 16/20\n",
            "1563/1563 [==============================] - 2s 1ms/step - loss: 1.6526 - accuracy: 0.4066\n",
            "Epoch 17/20\n",
            "1563/1563 [==============================] - 2s 1ms/step - loss: 1.6496 - accuracy: 0.4041\n",
            "Epoch 18/20\n",
            "1563/1563 [==============================] - 2s 1ms/step - loss: 1.6487 - accuracy: 0.4044\n",
            "Epoch 19/20\n",
            "1563/1563 [==============================] - 2s 1ms/step - loss: 1.6489 - accuracy: 0.4070\n",
            "Epoch 20/20\n",
            "1563/1563 [==============================] - 2s 1ms/step - loss: 1.6326 - accuracy: 0.4134\n"
          ],
          "name": "stdout"
        },
        {
          "output_type": "execute_result",
          "data": {
            "text/plain": [
              "<tensorflow.python.keras.callbacks.History at 0x7fae507b1710>"
            ]
          },
          "metadata": {
            "tags": []
          },
          "execution_count": 103
        }
      ]
    },
    {
      "cell_type": "code",
      "metadata": {
        "id": "CmVEyHek6Ack"
      },
      "source": [
        "y_predict_pca = model_pca.predict(X_test_pca)"
      ],
      "execution_count": null,
      "outputs": []
    },
    {
      "cell_type": "code",
      "metadata": {
        "id": "TRSOGEJ-6e7d"
      },
      "source": [
        "predicted_class_pca = [np.argmax(element) for element in y_predict_pca]"
      ],
      "execution_count": null,
      "outputs": []
    },
    {
      "cell_type": "code",
      "metadata": {
        "colab": {
          "base_uri": "https://localhost:8080/"
        },
        "id": "vOrwfZAZ6VBw",
        "outputId": "07ecde32-37c0-471e-ed3c-517257a53d2e"
      },
      "source": [
        "accuracy_MLP_pca= accuracy_score(predicted_class_pca,y_test_pca)\n",
        "accuracy_MLP_pca"
      ],
      "execution_count": null,
      "outputs": [
        {
          "output_type": "execute_result",
          "data": {
            "text/plain": [
              "0.4063"
            ]
          },
          "metadata": {
            "tags": []
          },
          "execution_count": 106
        }
      ]
    },
    {
      "cell_type": "code",
      "metadata": {
        "colab": {
          "base_uri": "https://localhost:8080/"
        },
        "id": "iX-CZ-E57Hm1",
        "outputId": "07c40ab7-cf82-44f8-a6a8-783ad0f016ab"
      },
      "source": [
        "print(\"Classification Report: \\n\", classification_report(y_test_pca,predicted_class_pca))"
      ],
      "execution_count": null,
      "outputs": [
        {
          "output_type": "stream",
          "text": [
            "Classification Report: \n",
            "               precision    recall  f1-score   support\n",
            "\n",
            "           0       0.49      0.43      0.46       993\n",
            "           1       0.44      0.44      0.44       979\n",
            "           2       0.34      0.33      0.33      1008\n",
            "           3       0.30      0.32      0.31      1066\n",
            "           4       0.36      0.33      0.35       977\n",
            "           5       0.44      0.23      0.30      1008\n",
            "           6       0.37      0.52      0.43       950\n",
            "           7       0.45      0.49      0.47      1025\n",
            "           8       0.50      0.50      0.50       995\n",
            "           9       0.40      0.48      0.44       999\n",
            "\n",
            "    accuracy                           0.41     10000\n",
            "   macro avg       0.41      0.41      0.40     10000\n",
            "weighted avg       0.41      0.41      0.40     10000\n",
            "\n"
          ],
          "name": "stdout"
        }
      ]
    },
    {
      "cell_type": "code",
      "metadata": {
        "colab": {
          "base_uri": "https://localhost:8080/",
          "height": 354
        },
        "id": "9aEjJqIsCzzE",
        "outputId": "8d2cd35f-29d9-44e8-80fa-2fe4e0abbd07"
      },
      "source": [
        "Model_list=[\"ANN\",\"greyscale_ANN\",\"ANN_LDA\",\"ANN_PCA\"]\n",
        "Accuracy_list=[0.5365,0.424, 0.501,0.4063]\n",
        "import matplotlib.pyplot as plt\n",
        "import seaborn as sns\n",
        "plt.figure(figsize=(5,5))\n",
        "plt.title('Accuracy for each model')\n",
        "\n",
        "sns.lineplot(x=Model_list, y=Accuracy_list)"
      ],
      "execution_count": null,
      "outputs": [
        {
          "output_type": "execute_result",
          "data": {
            "text/plain": [
              "<matplotlib.axes._subplots.AxesSubplot at 0x7fae4d3be190>"
            ]
          },
          "metadata": {
            "tags": []
          },
          "execution_count": 110
        },
        {
          "output_type": "display_data",
          "data": {
            "image/png": "[encoded data removed]",
            "text/plain": [
              "<Figure size 360x360 with 1 Axes>"
            ]
          },
          "metadata": {
            "tags": [],
            "needs_background": "light"
          }
        }
      ]
    }
  ]
}