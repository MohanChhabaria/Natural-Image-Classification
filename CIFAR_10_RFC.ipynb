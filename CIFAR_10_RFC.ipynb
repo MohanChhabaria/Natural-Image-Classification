{
  "nbformat": 4,
  "nbformat_minor": 0,
  "metadata": {
    "colab": {
      "name": "CIFAR 10 RFC.ipynb",
      "provenance": [],
      "collapsed_sections": [],
      "toc_visible": true
    },
    "kernelspec": {
      "display_name": "Python 3",
      "name": "python3"
    }
  },
  "cells": [
    {
      "cell_type": "code",
      "metadata": {
        "id": "yzTg9s9hSjor"
      },
      "source": [
        " def Snippet_349():\n",
        "   print()\n",
        "   print(format('Image classification using Random Forest '))\n",
        "\n",
        "   import warnings\n",
        "   warnings.filterwarning(\"ignore\")"
      ],
      "execution_count": null,
      "outputs": []
    },
    {
      "cell_type": "code",
      "metadata": {
        "id": "coSL1zLiS-1S"
      },
      "source": [
        "from keras.datasets import cifar10\n",
        "from sklearn import metrics\n",
        "from sklearn.ensemble import RandomForestClassifier\n",
        "from sklearn.model_selection import cross_val_score\n",
        "import time\n",
        "start_time= time.time() "
      ],
      "execution_count": null,
      "outputs": []
    },
    {
      "cell_type": "code",
      "metadata": {
        "id": "nWCD6WU5TlSq"
      },
      "source": [
        "(m_train, n_train), (m_test, n_test)= cifar10.load_data()"
      ],
      "execution_count": null,
      "outputs": []
    },
    {
      "cell_type": "code",
      "metadata": {
        "id": "f7LzxhEpT4H6"
      },
      "source": [
        "RESHAPED =3072"
      ],
      "execution_count": null,
      "outputs": []
    },
    {
      "cell_type": "code",
      "metadata": {
        "id": "urdI5cvNT-aE"
      },
      "source": [
        "m_train= m_train.reshape(50000, RESHAPED)\n",
        "m_test= m_test.reshape(10000, RESHAPED)\n",
        "m_train=m_train.astype('float32')\n",
        "m_test=m_test.astype('float32')\n"
      ],
      "execution_count": null,
      "outputs": []
    },
    {
      "cell_type": "code",
      "metadata": {
        "id": "8jzQY1QhUwii"
      },
      "source": [
        "n_train=n_train.flatten()\n",
        "n_test=n_test.flatten()\n",
        "m_train /=25\n",
        "m_test/=255"
      ],
      "execution_count": null,
      "outputs": []
    },
    {
      "cell_type": "code",
      "metadata": {
        "id": "K2cJciLYU_OM",
        "colab": {
          "base_uri": "https://localhost:8080/"
        },
        "outputId": "426baced-e2ce-465a-e2db-1e63109e1a64"
      },
      "source": [
        "print(m_train.shape[0], 'Train Sample')\n",
        "print(m_test.shape[0], 'Test Sample')"
      ],
      "execution_count": null,
      "outputs": [
        {
          "output_type": "stream",
          "text": [
            "50000 Train Sample\n",
            "10000 Test Sample\n"
          ],
          "name": "stdout"
        }
      ]
    },
    {
      "cell_type": "code",
      "metadata": {
        "id": "eb-rQb0UVUBK",
        "colab": {
          "base_uri": "https://localhost:8080/"
        },
        "outputId": "00ef267b-1664-4b80-e67c-1006e4156717"
      },
      "source": [
        "model = RandomForestClassifier(n_estimators=10)\n",
        "cv_results= cross_val_score(model, m_train, n_train, cv= 2, scoring= 'accuracy', n_jobs=-1, verbose=1)\n",
        "\n",
        "model.fit(m_train, n_train)"
      ],
      "execution_count": null,
      "outputs": [
        {
          "output_type": "stream",
          "text": [
            "[Parallel(n_jobs=-1)]: Using backend LokyBackend with 2 concurrent workers.\n",
            "[Parallel(n_jobs=-1)]: Done   2 out of   2 | elapsed:   20.5s remaining:    0.0s\n",
            "[Parallel(n_jobs=-1)]: Done   2 out of   2 | elapsed:   20.5s finished\n"
          ],
          "name": "stderr"
        },
        {
          "output_type": "execute_result",
          "data": {
            "text/plain": [
              "RandomForestClassifier(bootstrap=True, ccp_alpha=0.0, class_weight=None,\n",
              "                       criterion='gini', max_depth=None, max_features='auto',\n",
              "                       max_leaf_nodes=None, max_samples=None,\n",
              "                       min_impurity_decrease=0.0, min_impurity_split=None,\n",
              "                       min_samples_leaf=1, min_samples_split=2,\n",
              "                       min_weight_fraction_leaf=0.0, n_estimators=10,\n",
              "                       n_jobs=None, oob_score=False, random_state=None,\n",
              "                       verbose=0, warm_start=False)"
            ]
          },
          "metadata": {
            "tags": []
          },
          "execution_count": 12
        }
      ]
    },
    {
      "cell_type": "code",
      "metadata": {
        "id": "mn1z7IXPWTAX",
        "colab": {
          "base_uri": "https://localhost:8080/"
        },
        "outputId": "0d8d398c-33bd-4813-8e48-43d2ac8f2b71"
      },
      "source": [
        "print(); print(cv_results)\n",
        "print(); print(model)"
      ],
      "execution_count": null,
      "outputs": [
        {
          "output_type": "stream",
          "text": [
            "\n",
            "[0.34004 0.3322 ]\n",
            "\n",
            "RandomForestClassifier(bootstrap=True, ccp_alpha=0.0, class_weight=None,\n",
            "                       criterion='gini', max_depth=None, max_features='auto',\n",
            "                       max_leaf_nodes=None, max_samples=None,\n",
            "                       min_impurity_decrease=0.0, min_impurity_split=None,\n",
            "                       min_samples_leaf=1, min_samples_split=2,\n",
            "                       min_weight_fraction_leaf=0.0, n_estimators=10,\n",
            "                       n_jobs=None, oob_score=False, random_state=None,\n",
            "                       verbose=0, warm_start=False)\n"
          ],
          "name": "stdout"
        }
      ]
    },
    {
      "cell_type": "code",
      "metadata": {
        "id": "SBZUE_LYWhXn"
      },
      "source": [
        "expected_n= n_test\n",
        "predicted_n=model.predict(m_test)"
      ],
      "execution_count": null,
      "outputs": []
    },
    {
      "cell_type": "code",
      "metadata": {
        "id": "1DSFRGlYW30q",
        "colab": {
          "base_uri": "https://localhost:8080/"
        },
        "outputId": "fe3974f7-3f8b-4fce-9c20-188074670a32"
      },
      "source": [
        "print(); print(metrics.classification_report(expected_n, predicted_n))\n",
        "print(); print(metrics.confusion_matrix(expected_n, predicted_n))\n",
        "\n",
        "print()\n",
        "print(\"Execution time %s seconds\" % (time.time()- start_time))\n",
        "\n"
      ],
      "execution_count": null,
      "outputs": [
        {
          "output_type": "stream",
          "text": [
            "\n",
            "              precision    recall  f1-score   support\n",
            "\n",
            "           0       0.03      0.00      0.00      1000\n",
            "           1       0.20      0.00      0.00      1000\n",
            "           2       0.11      0.04      0.06      1000\n",
            "           3       0.10      0.82      0.17      1000\n",
            "           4       0.21      0.00      0.01      1000\n",
            "           5       0.00      0.00      0.00      1000\n",
            "           6       0.00      0.00      0.00      1000\n",
            "           7       0.00      0.00      0.00      1000\n",
            "           8       0.06      0.07      0.07      1000\n",
            "           9       0.00      0.00      0.00      1000\n",
            "\n",
            "    accuracy                           0.09     10000\n",
            "   macro avg       0.07      0.09      0.03     10000\n",
            "weighted avg       0.07      0.09      0.03     10000\n",
            "\n",
            "\n",
            "[[  2   2  15 902   0   0   5   0  74   0]\n",
            " [ 14   1  34 851   1   0   1   0  98   0]\n",
            " [  4   0  39 843   1   0   2   0 111   0]\n",
            " [ 13   1  53 821   2   0   2   2 106   0]\n",
            " [  2   0  34 766   4   0   2   0 192   0]\n",
            " [  2   0  49 831   4   0   0   0 114   0]\n",
            " [ 10   0  50 758   2   0   0   1 179   0]\n",
            " [  3   0  35 844   4   0   0   0 114   0]\n",
            " [  5   1  13 905   1   0   5   0  70   0]\n",
            " [ 14   0  40 890   0   0   1   0  55   0]]\n",
            "\n",
            "Execution time 70.97280979156494 seconds\n"
          ],
          "name": "stdout"
        },
        {
          "output_type": "stream",
          "text": [
            "/usr/local/lib/python3.7/dist-packages/sklearn/metrics/_classification.py:1272: UndefinedMetricWarning: Precision and F-score are ill-defined and being set to 0.0 in labels with no predicted samples. Use `zero_division` parameter to control this behavior.\n",
            "  _warn_prf(average, modifier, msg_start, len(result))\n"
          ],
          "name": "stderr"
        }
      ]
    }
  ]
}